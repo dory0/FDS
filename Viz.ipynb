{
 "cells": [
  {
   "cell_type": "code",
   "execution_count": 10,
   "metadata": {},
   "outputs": [
    {
     "data": {
      "text/plain": [
       "['FD_SUP.data_load.ipynb',\n",
       " 'Notes from Foundations of Data Science Using Python.ipynb',\n",
       " 'Viz.ipynb',\n",
       " 'Week1.data_taxonomy.ipynb',\n",
       " 'Week1.explore_bikeshare.ipynb',\n",
       " 'Week1.ideal_workflow.ipynb',\n",
       " 'Week1.info_overload.ipynb',\n",
       " 'Week1.load_data.ipynb',\n",
       " 'Week2.model_bikeshare.ipynb',\n",
       " 'Week3.Team_Projects.ipynb',\n",
       " 'cleandf.pkl',\n",
       " 'course_ntbks_go_here.txt',\n",
       " 'dataload',\n",
       " 'img']"
      ]
     },
     "execution_count": 10,
     "metadata": {},
     "output_type": "execute_result"
    }
   ],
   "source": [
    "sx ls ./"
   ]
  },
  {
   "cell_type": "code",
   "execution_count": 11,
   "metadata": {},
   "outputs": [],
   "source": [
    "import pickle\n",
    "import pandas as pd\n",
    "import numpy as np\n",
    "\n",
    "df = pd.read_pickle('./cleandf.pkl')"
   ]
  },
  {
   "cell_type": "code",
   "execution_count": 12,
   "metadata": {},
   "outputs": [
    {
     "data": {
      "text/plain": [
       "Index(['in09_smsa', 'msa_codebook', 'msa', 'in85_hud_mud', 'in87_hud_med',\n",
       "       'in89_hud_med', 'in91_hud_med', 'in93_hud_med', 'in95_hud_med',\n",
       "       'in97_hud_med',\n",
       "       ...\n",
       "       'fmt_inc_rel_fmr_cat_y', 'fmt_cost06_rel_ami_cat_y',\n",
       "       'fmt_cost08_rel_ami_cat_y', 'fmt_cost12_rel_ami_cat_y',\n",
       "       'fmt_cost_med_rel_ami_cat_y', 'fmt_inc_rel_ami_cat_y', 'fmt_assisted_y',\n",
       "       'fmt_burden_y', 'fmt_region', 'fmt_status_y'],\n",
       "      dtype='object', length=211)"
      ]
     },
     "execution_count": 12,
     "metadata": {},
     "output_type": "execute_result"
    }
   ],
   "source": [
    "df.columns"
   ]
  },
  {
   "cell_type": "code",
   "execution_count": 15,
   "metadata": {},
   "outputs": [],
   "source": [
    "cols_keep = [c for c in df.columns if c.lower()[:3] != 'fmt']"
   ]
  },
  {
   "cell_type": "code",
   "execution_count": 16,
   "metadata": {},
   "outputs": [
    {
     "data": {
      "text/plain": [
       "['in09_smsa',\n",
       " 'msa_codebook',\n",
       " 'msa',\n",
       " 'in85_hud_mud',\n",
       " 'in87_hud_med',\n",
       " 'in89_hud_med',\n",
       " 'in91_hud_med',\n",
       " 'in93_hud_med',\n",
       " 'in95_hud_med',\n",
       " 'in97_hud_med',\n",
       " 'in99_hud_med',\n",
       " 'in01_hud_med',\n",
       " 'in03_hud_med',\n",
       " 'in05_hud_med',\n",
       " 'in07_hud_med',\n",
       " 'in09_hud_med',\n",
       " 'control',\n",
       " 'metro',\n",
       " 'bedrms_x',\n",
       " 'built_x',\n",
       " 'status_x',\n",
       " 'type_x',\n",
       " 'value_x',\n",
       " 'vacancy_x',\n",
       " 'tenure_x',\n",
       " 'n_units_x',\n",
       " 'rooms_x',\n",
       " 'wgt_metro',\n",
       " 'per_x',\n",
       " 'zinc2_x',\n",
       " 'zadeq_x',\n",
       " 'zsmhc_x',\n",
       " 'age1_x',\n",
       " 'structure_type_x',\n",
       " 'own_rent_x',\n",
       " 'utility_x',\n",
       " 'other_cost_x',\n",
       " 'cost_06',\n",
       " 'cost_12',\n",
       " 'cost_08_x',\n",
       " 'cost_med_x',\n",
       " 'tot_sal_x',\n",
       " 'assisted_x',\n",
       " 'i_pov_x',\n",
       " 'l_med_x',\n",
       " 'l_50_x',\n",
       " 'l_80_x',\n",
       " 'fmr_x',\n",
       " 'gl_med_x',\n",
       " 'gl_30_x',\n",
       " 'l_30_x',\n",
       " 'gl_50_x',\n",
       " 'gl_80_x',\n",
       " 'apl_med_x',\n",
       " 'abl_30_x',\n",
       " 'abl_50_x',\n",
       " 'abl_80_x',\n",
       " 'abl_med_x',\n",
       " 'burden_x',\n",
       " 'inc_rel_ami_pct_x',\n",
       " 'inc_pel_ami_cat',\n",
       " 'inc_rel_pov_pct_x',\n",
       " 'inc_rel_pov_cat_x',\n",
       " 'inc_rel_fmr_pct_x',\n",
       " 'inc_rel_fmr_cat_x',\n",
       " 'cost06_rel_ami_pct_x',\n",
       " 'cost06_rel_ami_cat_x',\n",
       " 'cost06_rel_pov_pct_x',\n",
       " 'cost06_rel_pov_cat_x',\n",
       " 'cost06_rel_fmr_pct_x',\n",
       " 'cost06_rel_fmr_cat_x',\n",
       " 'cost08_rel_ami_pct_x',\n",
       " 'cost08_rel_ami_cat_x',\n",
       " 'cost08_rel_pov_pct_x',\n",
       " 'cost08_rel_pov_cat_x',\n",
       " 'cost08_rel_fmr_pct_x',\n",
       " 'cost08_rel_fmr_cat_x',\n",
       " 'cost12_rel_ami_pct_x',\n",
       " 'cost12_rel_ami_cat_x',\n",
       " 'cost12_rel_pov_pct_x',\n",
       " 'cost12_rel_pov_cat_x',\n",
       " 'cost12_rel_fmr_pct_x',\n",
       " 'cost12_rel_fmr_cat_x',\n",
       " 'cost_med_rel_ami_pct_x',\n",
       " 'cost_med_rel_ami_cat_x',\n",
       " 'cost_med_rel_pov_pct_x',\n",
       " 'cost_med_rel_pov_cat_x',\n",
       " 'cost_med_rel_fmr_pct_x',\n",
       " 'cost_med_rel_fmr_pct_x',\n",
       " 'age1_y',\n",
       " 'metro3',\n",
       " 'region',\n",
       " 'l_med_y',\n",
       " 'fmr_y',\n",
       " 'l_30_y',\n",
       " 'l_50_y',\n",
       " 'l_80_y',\n",
       " 'i_pov_y',\n",
       " 'bedrms_y',\n",
       " 'built_y',\n",
       " 'status_y',\n",
       " 'type_y',\n",
       " 'value_y',\n",
       " 'vacancy_y',\n",
       " 'tenure_y',\n",
       " 'n_units_y',\n",
       " 'rooms_y',\n",
       " 'weight',\n",
       " 'per_y',\n",
       " 'zinc2_y',\n",
       " 'zadeq_y',\n",
       " 'zsmhc_y',\n",
       " 'structure_type_y',\n",
       " 'own_rent_y',\n",
       " 'utility_y',\n",
       " 'other_cost_y',\n",
       " 'cost06',\n",
       " 'cost12',\n",
       " 'cost_08_y',\n",
       " 'cost_med_y',\n",
       " 'tot_sal_y',\n",
       " 'assisted_y',\n",
       " 'gl_med_y',\n",
       " 'gl_30_y',\n",
       " 'gl_50_y',\n",
       " 'gl_80_y',\n",
       " 'apl_med_y',\n",
       " 'abl_30_y',\n",
       " 'abl_50_y',\n",
       " 'abl_80_y',\n",
       " 'abl_med_y',\n",
       " 'burden_y',\n",
       " 'inc_rel_ami_pct_y',\n",
       " 'inc_rel_ami_cat',\n",
       " 'inc_rel_pov_pct_y',\n",
       " 'inc_rel_pov_cat_y',\n",
       " 'inc_rel_fmr_pct_y',\n",
       " 'inc_rel_fmr_cat_y',\n",
       " 'cost06_rel_ami_pct_y',\n",
       " 'cost06_rel_ami_cat_y',\n",
       " 'cost06_rel_pov_pct_y',\n",
       " 'cost06_rel_pov_cat_y',\n",
       " 'cost06_rel_fmr_pct_y',\n",
       " 'cost06_rel_fmr_cat_y',\n",
       " 'cost08_rel_ami_pct_y',\n",
       " 'cost08_rel_ami_cat_y',\n",
       " 'cost08_rel_pov_pct_y',\n",
       " 'cost08_rel_pov_cat_y',\n",
       " 'cost08_rel_fmr_pct_y',\n",
       " 'cost08_rel_fmr_cat_y',\n",
       " 'cost12_rel_ami_pct_y',\n",
       " 'cost12_rel_ami_cat_y',\n",
       " 'cost12_rel_pov_pct_y',\n",
       " 'cost12_rel_pov_cat_y',\n",
       " 'cost12_rel_fmr_pct_y',\n",
       " 'cost12_rel_fmr_cat_y',\n",
       " 'cost_med_rel_ami_pct_y',\n",
       " 'cost_med_rel_ami_cat_y',\n",
       " 'cost_med_rel_pov_pct_y',\n",
       " 'cost_med_rel_pov_cat_y',\n",
       " 'cost_med_rel_fmr_pct_y',\n",
       " 'cost_med_rel_fmr_cat']"
      ]
     },
     "execution_count": 16,
     "metadata": {},
     "output_type": "execute_result"
    }
   ],
   "source": [
    "cols_keep"
   ]
  },
  {
   "cell_type": "code",
   "execution_count": 25,
   "metadata": {},
   "outputs": [
    {
     "data": {
      "text/html": [
       "<div>\n",
       "<style scoped>\n",
       "    .dataframe tbody tr th:only-of-type {\n",
       "        vertical-align: middle;\n",
       "    }\n",
       "\n",
       "    .dataframe tbody tr th {\n",
       "        vertical-align: top;\n",
       "    }\n",
       "\n",
       "    .dataframe thead th {\n",
       "        text-align: right;\n",
       "    }\n",
       "</style>\n",
       "<table border=\"1\" class=\"dataframe\">\n",
       "  <thead>\n",
       "    <tr style=\"text-align: right;\">\n",
       "      <th></th>\n",
       "      <th>in09_hud_med</th>\n",
       "      <th>in07_hud_med</th>\n",
       "      <th>cost_06</th>\n",
       "      <th>cost_12</th>\n",
       "    </tr>\n",
       "  </thead>\n",
       "  <tbody>\n",
       "    <tr>\n",
       "      <th>count</th>\n",
       "      <td>62130.000000</td>\n",
       "      <td>62130.000000</td>\n",
       "      <td>62007.000000</td>\n",
       "      <td>62007.000000</td>\n",
       "    </tr>\n",
       "    <tr>\n",
       "      <th>mean</th>\n",
       "      <td>70418.292060</td>\n",
       "      <td>64767.205195</td>\n",
       "      <td>1654.694458</td>\n",
       "      <td>2247.610983</td>\n",
       "    </tr>\n",
       "    <tr>\n",
       "      <th>std</th>\n",
       "      <td>14142.165979</td>\n",
       "      <td>13170.365991</td>\n",
       "      <td>1655.693121</td>\n",
       "      <td>2581.687416</td>\n",
       "    </tr>\n",
       "    <tr>\n",
       "      <th>min</th>\n",
       "      <td>32000.000000</td>\n",
       "      <td>27700.000000</td>\n",
       "      <td>0.000000</td>\n",
       "      <td>0.000000</td>\n",
       "    </tr>\n",
       "    <tr>\n",
       "      <th>25%</th>\n",
       "      <td>57500.000000</td>\n",
       "      <td>53700.000000</td>\n",
       "      <td>822.403724</td>\n",
       "      <td>907.000000</td>\n",
       "    </tr>\n",
       "    <tr>\n",
       "      <th>50%</th>\n",
       "      <td>65100.000000</td>\n",
       "      <td>60100.000000</td>\n",
       "      <td>1227.019423</td>\n",
       "      <td>1515.592870</td>\n",
       "    </tr>\n",
       "    <tr>\n",
       "      <th>75%</th>\n",
       "      <td>83900.000000</td>\n",
       "      <td>77600.000000</td>\n",
       "      <td>1951.819587</td>\n",
       "      <td>2731.527942</td>\n",
       "    </tr>\n",
       "    <tr>\n",
       "      <th>max</th>\n",
       "      <td>122300.000000</td>\n",
       "      <td>111000.000000</td>\n",
       "      <td>36510.467005</td>\n",
       "      <td>56667.803137</td>\n",
       "    </tr>\n",
       "  </tbody>\n",
       "</table>\n",
       "</div>"
      ],
      "text/plain": [
       "        in09_hud_med   in07_hud_med       cost_06       cost_12\n",
       "count   62130.000000   62130.000000  62007.000000  62007.000000\n",
       "mean    70418.292060   64767.205195   1654.694458   2247.610983\n",
       "std     14142.165979   13170.365991   1655.693121   2581.687416\n",
       "min     32000.000000   27700.000000      0.000000      0.000000\n",
       "25%     57500.000000   53700.000000    822.403724    907.000000\n",
       "50%     65100.000000   60100.000000   1227.019423   1515.592870\n",
       "75%     83900.000000   77600.000000   1951.819587   2731.527942\n",
       "max    122300.000000  111000.000000  36510.467005  56667.803137"
      ]
     },
     "execution_count": 25,
     "metadata": {},
     "output_type": "execute_result"
    }
   ],
   "source": [
    "df[[\"in09_hud_med\", \"in07_hud_med\", \"cost_06\", \"cost_12\"]].describe()"
   ]
  },
  {
   "cell_type": "code",
   "execution_count": 27,
   "metadata": {},
   "outputs": [
    {
     "data": {
      "text/plain": [
       "array([[<matplotlib.axes._subplots.AxesSubplot object at 0x1173ce940>,\n",
       "        <matplotlib.axes._subplots.AxesSubplot object at 0x118629860>,\n",
       "        <matplotlib.axes._subplots.AxesSubplot object at 0x118649b70>,\n",
       "        <matplotlib.axes._subplots.AxesSubplot object at 0x118673e80>],\n",
       "       [<matplotlib.axes._subplots.AxesSubplot object at 0x1186a51d0>,\n",
       "        <matplotlib.axes._subplots.AxesSubplot object at 0x1186a5208>,\n",
       "        <matplotlib.axes._subplots.AxesSubplot object at 0x1186f77f0>,\n",
       "        <matplotlib.axes._subplots.AxesSubplot object at 0x118722b00>],\n",
       "       [<matplotlib.axes._subplots.AxesSubplot object at 0x11874de10>,\n",
       "        <matplotlib.axes._subplots.AxesSubplot object at 0x118780160>,\n",
       "        <matplotlib.axes._subplots.AxesSubplot object at 0x1187aa470>,\n",
       "        <matplotlib.axes._subplots.AxesSubplot object at 0x1187d3780>],\n",
       "       [<matplotlib.axes._subplots.AxesSubplot object at 0x1187fba90>,\n",
       "        <matplotlib.axes._subplots.AxesSubplot object at 0x118827da0>,\n",
       "        <matplotlib.axes._subplots.AxesSubplot object at 0x11885a0f0>,\n",
       "        <matplotlib.axes._subplots.AxesSubplot object at 0x118882400>]],\n",
       "      dtype=object)"
      ]
     },
     "execution_count": 27,
     "metadata": {},
     "output_type": "execute_result"
    },
    {
     "data": {
      "image/png": "[encoded data removed]",
      "text/plain": [
       "<Figure size 864x576 with 16 Axes>"
      ]
     },
     "metadata": {},
     "output_type": "display_data"
    }
   ],
   "source": [
    "from pandas.plotting import scatter_matrix\n",
    "attributes = [\"in09_hud_med\", \"in07_hud_med\", \"cost_06\", \"cost_12\"]\n",
    "scatter_matrix(df[attributes], figsize=(12, 8))"
   ]
  },
  {
   "cell_type": "code",
   "execution_count": null,
   "metadata": {},
   "outputs": [],
   "source": []
  }
 ],
 "metadata": {
  "kernelspec": {
   "display_name": "Python 3",
   "language": "python",
   "name": "python3"
  },
  "language_info": {
   "codemirror_mode": {
    "name": "ipython",
    "version": 3
   },
   "file_extension": ".py",
   "mimetype": "text/x-python",
   "name": "python",
   "nbconvert_exporter": "python",
   "pygments_lexer": "ipython3",
   "version": "3.6.5"
  }
 },
 "nbformat": 4,
 "nbformat_minor": 2
}
